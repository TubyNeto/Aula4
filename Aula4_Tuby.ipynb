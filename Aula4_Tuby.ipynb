{
 "cells": [
  {
   "cell_type": "code",
   "execution_count": 7,
   "metadata": {
    "collapsed": false
   },
   "outputs": [
    {
     "name": "stdout",
     "output_type": "stream",
     "text": [
      "0.0047328316531780965\n",
      "1.886792452830189\n"
     ]
    }
   ],
   "source": [
    "print((0.1/2112.9)*100)\n",
    "print((0.1/5.3)*100)"
   ]
  },
  {
   "cell_type": "code",
   "execution_count": 26,
   "metadata": {
    "collapsed": false
   },
   "outputs": [
    {
     "data": {
      "image/png": "[encoded data removed]",
      "text/plain": [
       "<matplotlib.figure.Figure at 0x234a25ce240>"
      ]
     },
     "metadata": {},
     "output_type": "display_data"
    }
   ],
   "source": [
    "import matplotlib.pyplot as plt\n",
    "import numpy as np\n",
    "\n",
    "def func(t):\n",
    "    return (10**(1-t))\n",
    "\n",
    "def func2(t):\n",
    "    return (10**(1-t))*0.5\n",
    "\n",
    "n = np.linspace(2,12, num=1000)\n",
    "plt.plot(x, func(x))\n",
    "plt.plot(x, func2(x), color='red')\n",
    "plt.show()"
   ]
  },
  {
   "cell_type": "code",
   "execution_count": 31,
   "metadata": {
    "collapsed": false
   },
   "outputs": [
    {
     "name": "stdout",
     "output_type": "stream",
     "text": [
      "0.6\n",
      "0.5342424242424242\n"
     ]
    }
   ],
   "source": [
    "def absoluto(erro1, erro2):#absoluto\n",
    "    return(erro1+erro2)\n",
    "\n",
    "def relativo(erro, x, y): #relativo\n",
    "    return(erro*(y/x+y))\n",
    "\n",
    "absol=absoluto(0.1,0.5)\n",
    "print(absol)\n",
    "relat=relativo(0.1,3.3,4.1)\n",
    "print(relat)"
   ]
  }
 ],
 "metadata": {
  "anaconda-cloud": {},
  "kernelspec": {
   "display_name": "Python [default]",
   "language": "python",
   "name": "python3"
  },
  "language_info": {
   "codemirror_mode": {
    "name": "ipython",
    "version": 3
   },
   "file_extension": ".py",
   "mimetype": "text/x-python",
   "name": "python",
   "nbconvert_exporter": "python",
   "pygments_lexer": "ipython3",
   "version": "3.5.2"
  }
 },
 "nbformat": 4,
 "nbformat_minor": 1
}
